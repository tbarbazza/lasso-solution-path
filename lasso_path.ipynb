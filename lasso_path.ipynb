{
 "cells": [
  {
   "cell_type": "code",
   "execution_count": 79,
   "id": "0565c535",
   "metadata": {},
   "outputs": [],
   "source": [
    "import import_ipynb\n",
    "import numpy as np\n",
    "import pandas as pd\n",
    "import matplotlib.pyplot as plt\n",
    "import time\n",
    "from sklearn.model_selection import KFold"
   ]
  },
  {
   "cell_type": "markdown",
   "id": "550831ff",
   "metadata": {},
   "source": [
    "# Algorithme d'homotopie pour le LASSO"
   ]
  },
  {
   "cell_type": "markdown",
   "id": "414c64eb",
   "metadata": {},
   "source": [
    "**Fonctions annexes**"
   ]
  },
  {
   "cell_type": "code",
   "execution_count": 80,
   "id": "5c903f60",
   "metadata": {},
   "outputs": [],
   "source": [
    "def get_min_ind(liste):\n",
    "    l = [x for x in liste if x > 1e-10]\n",
    "    #l = [x for x in liste if np.any(x > tol)]\n",
    "    if not l:\n",
    "        return np.inf, 0\n",
    "    min_value = np.min(l)\n",
    "    min_index = np.where(liste == min_value)[0][0]\n",
    "    if  min_value == 0:\n",
    "        return np.inf, 0\n",
    "    else:\n",
    "        return min_value, min_index\n",
    "\n",
    "def sum_Xi_coeffs(X_J, a_s_J):\n",
    "    res = np.zeros(X_J.shape[0])\n",
    "    for i in range(len(a_s_J)):\n",
    "        res = res + X_J[:,i]*a_s_J[i]\n",
    "    return res\n",
    "\n",
    "def show_path(values, scale_log):\n",
    "    lambdas = [l[0] for l in values]\n",
    "    betas = np.vstack([b[1] for b in values])\n",
    "    fig, ax = plt.subplots()\n",
    "    ax.axhline(y=0, color='k', linestyle=':')\n",
    "    ax.axvline(x=0, color='k', linestyle=':')\n",
    "    if scale_log:\n",
    "        ax.set_xscale('log')\n",
    "    for i in range(betas.shape[1]):\n",
    "        ax.plot(lambdas, [b[i] for b in betas])\n",
    "    plt.xlabel('Lambda')\n",
    "    plt.ylabel('Beta Coefficients')\n",
    "    plt.title('LASSO Path')\n",
    "    plt.show()"
   ]
  },
  {
   "cell_type": "markdown",
   "id": "494b23b8",
   "metadata": {},
   "source": [
    "**Fonction principale**"
   ]
  },
  {
   "cell_type": "code",
   "execution_count": 81,
   "id": "d721951f",
   "metadata": {},
   "outputs": [],
   "source": [
    "def homo_lasso(X, y, k_max=1e3, prc = 99):\n",
    "    start_time = time.time()\n",
    "    n, p = X.shape\n",
    "    L = np.arange(p)\n",
    "    ### recuperation du signe du premier beta_i non nul au vosinage de np.linalg.norm(A, np.inf)\n",
    "    A = (X.T)@y\n",
    "    lam = np.linalg.norm(A, np.inf)\n",
    "    norme_inf = lam\n",
    "    beta_hat = np.zeros(p)\n",
    "    j = np.argmax(np.abs(A))\n",
    "    ### Pour garder les valeurs de lam et beta\n",
    "    dtype = np.dtype([('nombre', np.float64), ('vecteur', np.float64, p)])\n",
    "    values = np.empty(0, dtype=dtype)\n",
    "    value = np.array([(lam, beta_hat)], dtype=dtype)\n",
    "    values = np.append(values, value)\n",
    "    ### MAJ de J et J_C\n",
    "    J = np.array([j])   \n",
    "    J_C = np.setdiff1d(L, J)\n",
    "    s = np.zeros(p)\n",
    "    s[j] = np.sign(A[j])\n",
    "    s_J = [s[j] for j in J]\n",
    "    l = 0\n",
    "    lignes_a = [] \n",
    "    lignes_b = []\n",
    "    while lam > 0 and k_max > l:\n",
    "        l = l+1\n",
    "        tau_pos_J_C = np.empty((0,))\n",
    "        tau_neg_J_C = np.empty((0,))\n",
    "        tau_J = np.empty((0,))\n",
    "        X_J = X[:, J]\n",
    "        X_J_T = X_J.T\n",
    "        #inv_X_T_X = np.linalg.inv(X_J_T @ X_J)\n",
    "        inv_X_T_X = np.linalg.solve(X_J_T @ X_J, np.eye(len(J)))\n",
    "        ### calcul des pentes et des ordonnée à l'origine au voisinage inferieur de lambda\n",
    "        a_s = np.zeros(p)\n",
    "        b_s = np.zeros(p)\n",
    "        if inv_X_T_X.shape[0] == 1:\n",
    "            a_s_J = -inv_X_T_X * s_J\n",
    "            b_s_J = inv_X_T_X * (X_J_T @ y)\n",
    "        else:\n",
    "            a_s_J = -inv_X_T_X @ s_J\n",
    "            b_s_J = inv_X_T_X @ (X_J_T @ y)\n",
    "        k = 0\n",
    "        for i in range(p):\n",
    "            if inv_X_T_X.shape[0] == 1:\n",
    "                if i in J:\n",
    "                    a_s[i] = a_s_J[0][k]\n",
    "                    b_s[i] = b_s_J[k]\n",
    "                    k = k+1\n",
    "                else:\n",
    "                    a_s[i] = 0\n",
    "                    b_s[i] = 0\n",
    "            else:\n",
    "                if i in J:\n",
    "                    a_s[i] = a_s_J[k]\n",
    "                    b_s[i] = b_s_J[k]\n",
    "                    k = k+1\n",
    "                else:\n",
    "                    a_s[i] = 0\n",
    "                    b_s[i] = 0\n",
    "        lignes_a.append(a_s)\n",
    "        lignes_b.append(b_s)\n",
    "        ###### calcul de tout les tau possibles\n",
    "        ### Cas ou une composante nulle devient non-nulle\n",
    "        for j in J_C:\n",
    "            a = sum_Xi_coeffs(X_J, a_s_J)\n",
    "            b = sum_Xi_coeffs(X_J, b_s_J)\n",
    "            xa = np.dot(X[:,j], a)\n",
    "            if (1+xa) == 0:\n",
    "                tau_j_pos = np.inf\n",
    "            else:\n",
    "                tau_j_pos = lam + np.dot(X[:,j],(-y.T+b.T).T) / (1+xa)\n",
    "            if (1-xa) == 0:\n",
    "                tau_j_neg =np.inf\n",
    "            else:\n",
    "                tau_j_neg = lam + np.dot(X[:,j],(y.T-b.T).T) / (1-xa)\n",
    "            tau_pos_J_C = np.append(tau_pos_J_C, tau_j_pos)\n",
    "            tau_neg_J_C = np.append(tau_neg_J_C, tau_j_neg)\n",
    "        tau_min_pos, ind_pos = get_min_ind(tau_pos_J_C)\n",
    "        tau_min_neg, ind_neg = get_min_ind(tau_neg_J_C)\n",
    "        ### Cas où une composante non-nulle devient nulle\n",
    "        for j in J:\n",
    "            if a_s[j] != 0:\n",
    "                tau_j = lam + b_s[j] / a_s[j]\n",
    "                tau_J = np.append(tau_J, tau_j)\n",
    "            else:\n",
    "                tau_J = np.append(tau_J, np.inf)\n",
    "            #print(\"tau_j=\", tau_j)\n",
    "\n",
    "        tau_min, ind = get_min_ind(tau_J)\n",
    "        ### selection du tau le plus petit /// mise a jour de J et J_C \n",
    "        if tau_min_pos <= tau_min_neg and tau_min_pos <= tau_min:\n",
    "            #print(\"passe dans pos\")\n",
    "            lam = lam - tau_min_pos\n",
    "            s[J_C[ind_pos]] = 1\n",
    "            J = np.append(J, J_C[ind_pos])\n",
    "            J = np.sort(J)\n",
    "            J_C = np.setdiff1d(L, J)\n",
    "            \n",
    "        if tau_min_neg <= tau_min_pos and tau_min_neg <= tau_min:\n",
    "            #print(\"passe dans neg\")\n",
    "            lam = lam - tau_min_neg\n",
    "            s[J_C[ind_neg]] = -1\n",
    "            J = np.append(J, J_C[ind_neg])\n",
    "            J = np.sort(J)\n",
    "            J_C = np.setdiff1d(L, J)\n",
    "            \n",
    "        if tau_min <= tau_min_neg and tau_min <= tau_min_pos:\n",
    "            #print(\"passe dans autre\")\n",
    "            lam = lam - tau_min\n",
    "            s[J[ind]] = 0\n",
    "            index_remove = np.where(J == J[ind])[0][0]\n",
    "            J = np.delete(J, index_remove)\n",
    "            J_C = np.setdiff1d(L, J)\n",
    "        s_J = [s[j] for j in J]\n",
    "        ### calcul des valeurs de beta pour le nouveau lambda\n",
    "        if lam < 1e-6: ### on continue dans la même direction jusqu'à lam=0\n",
    "            lam = 0\n",
    "            beta_hat = b_s\n",
    "            value = np.array([(lam, beta_hat)], dtype=dtype)\n",
    "            values = np.append(values, value)\n",
    "            break\n",
    "        else:\n",
    "            beta_hat = a_s * lam + b_s\n",
    "            value = np.array([(lam, beta_hat)], dtype=dtype)\n",
    "            values = np.append(values, value)\n",
    "    end_time = time.time()\n",
    "    execution_time = end_time - start_time\n",
    "    print(execution_time, \"s\")\n",
    "    ### Matrices des pentes et ordonnées a l origine\n",
    "    matrice_a_s = np.vstack(lignes_a)\n",
    "    matrice_b_s = np.vstack(lignes_b)\n",
    "    return values, matrice_a_s, matrice_b_s"
   ]
  },
  {
   "cell_type": "markdown",
   "id": "46544d8c",
   "metadata": {},
   "source": [
    "Exemple pour le dataset `winequality`: $X \\in \\mathbb{R}^{1599 \\times 11}$ et $Y \\in \\mathbb{R}^{1599}$\\\n",
    "Chaque colonne de $X$ représente des observation sur un vin telles que le pH, l'acidité,... Et $Y$ représente la qualité du vin sous forme d'une note de 1 à 10"
   ]
  },
  {
   "cell_type": "code",
   "execution_count": 82,
   "id": "8598f783",
   "metadata": {},
   "outputs": [],
   "source": [
    "### Importation et normalisation des données\n",
    "file_path = 'winequality-red.csv'\n",
    "data = pd.read_csv(file_path, sep=';', header=None)\n",
    "y = data.iloc[:, -1].to_numpy()\n",
    "X = data.iloc[:, :-1].to_numpy()\n",
    "X_mean = X.mean(axis=0)\n",
    "X_std = X.std(axis=0)\n",
    "y_mean = np.mean(y)\n",
    "\n",
    "X = (X - X_mean) / X_std\n",
    "y = y - y_mean\n",
    "n = X.shape[0]\n",
    "p = X.shape[1]"
   ]
  },
  {
   "cell_type": "markdown",
   "id": "955d3520",
   "metadata": {},
   "source": [
    "# I. Minimisation somme des carrés résiduels"
   ]
  },
  {
   "cell_type": "markdown",
   "id": "94c481e7",
   "metadata": {},
   "source": [
    "Calculons $\\hat{\\beta}(\\lambda)$ sur un échantillon d'entrainement, puis minimisons $\n",
    "\\lambda > 0 \\mapsto \\|Y^{test}-X^{test} \\hat{\\beta}(\\lambda)\\|_{2}^{2}\n",
    "$ sur un echantillon de test"
   ]
  },
  {
   "cell_type": "code",
   "execution_count": 38,
   "id": "914474db",
   "metadata": {},
   "outputs": [],
   "source": [
    "train_size = int(X.shape[0] * 0.7)\n",
    "train_indices = np.arange(train_size)\n",
    "test_indices = np.arange(train_size, X.shape[0])\n",
    "\n",
    "X_train = X[train_indices]\n",
    "X_test = X[test_indices]\n",
    "y_train = y[train_indices]\n",
    "y_test = y[test_indices]"
   ]
  },
  {
   "cell_type": "code",
   "execution_count": 39,
   "id": "12694f5e",
   "metadata": {},
   "outputs": [
    {
     "name": "stdout",
     "output_type": "stream",
     "text": [
      "0.04150271415710449 s\n"
     ]
    }
   ],
   "source": [
    "values_train, a_train, b_train = homo_lasso(X_train,y_train)"
   ]
  },
  {
   "cell_type": "code",
   "execution_count": 40,
   "id": "eadc0f4f",
   "metadata": {},
   "outputs": [
    {
     "data": {
      "image/png": "[encoded data removed]",
      "text/plain": [
       "<Figure size 640x480 with 1 Axes>"
      ]
     },
     "metadata": {},
     "output_type": "display_data"
    }
   ],
   "source": [
    "show_path(values_train, False)"
   ]
  },
  {
   "cell_type": "markdown",
   "id": "caa0b2dd",
   "metadata": {},
   "source": [
    "On minimise :\n",
    "$\n",
    "\\lambda > 0 \\mapsto SCR(\\lambda )=\\|Y^{test}-X^{test} \\hat{\\beta}(\\lambda)\\|_{2}^{2}\n",
    "$\n",
    "afin de determiner $\\lambda_{opt}$ (Fonction quadratique par morceaux)"
   ]
  },
  {
   "cell_type": "code",
   "execution_count": 41,
   "id": "42b85d62",
   "metadata": {},
   "outputs": [],
   "source": [
    "lambdas_train = np.array([l[0] for l in values_train])\n",
    "betas_train = np.vstack([b[1] for b in values_train])"
   ]
  },
  {
   "cell_type": "code",
   "execution_count": 42,
   "id": "2dd75e70",
   "metadata": {},
   "outputs": [
    {
     "name": "stdout",
     "output_type": "stream",
     "text": [
      "minimum = 209.27232291129985, atteint en  lambda = 13.530961838851303\n"
     ]
    },
    {
     "data": {
      "text/plain": [
       "<matplotlib.lines.Line2D at 0x25ccc984110>"
      ]
     },
     "execution_count": 42,
     "metadata": {},
     "output_type": "execute_result"
    },
    {
     "data": {
      "image/png": "[encoded data removed]",
      "text/plain": [
       "<Figure size 640x480 with 1 Axes>"
      ]
     },
     "metadata": {},
     "output_type": "display_data"
    }
   ],
   "source": [
    "yTy = y_test.T @ y_test\n",
    "min_values = np.empty((0,)) \n",
    "min_points = np.empty((0,))\n",
    "for i in range(len(lambdas_train)-1):\n",
    "#for i in range(len(lambdas_train)-50, len(lambdas_train)-20):\n",
    "    plage = np.linspace(lambdas_train[i], lambdas_train[i+1], 100)\n",
    "    v1 = X_test @ a_train[i,:]\n",
    "    v2 = X_test @ b_train[i,:]\n",
    "    norm_v1 = np.linalg.norm(v1)**2\n",
    "    norm_v2 = np.linalg.norm(v2)**2\n",
    "    yTv2 = y_test.T @ v2\n",
    "    yTv1 = y_test.T @ v1\n",
    "    v1Tv2 = v1.T @ v2\n",
    "    ### coeff de la fonction quadratique\n",
    "    a = norm_v1\n",
    "    b = 2*v1Tv2 - 2*yTv1\n",
    "    c = yTy + norm_v2 - 2*yTv2\n",
    "    \n",
    "    plt.plot(plage, a * plage**2 + b * plage + c, color='k')\n",
    "    #plt.axvline(x=lambdas[i], linestyle=':')\n",
    "    ### calcul du min sur chaque portion\n",
    "    if a != 0:\n",
    "        x_min = -b / (2 * a)\n",
    "        if lambdas_train[i] >= x_min >= lambdas_train[i+1]:\n",
    "            min_value = a * x_min**2 + b * x_min + c\n",
    "            min_point = x_min\n",
    "        else:\n",
    "            f_g = a * lambdas_train[i]**2 + b * lambdas_train[i] + c\n",
    "            f_d = a * lambdas_train[i+1]**2 + b * lambdas_train[i+1] + c\n",
    "            if f_g < f_d:\n",
    "                min_value = f_g\n",
    "                min_point = lambdas_train[i]\n",
    "            else:\n",
    "                min_value = f_d\n",
    "                min_point = lambdas_train[i+1]\n",
    "    else:\n",
    "        # Si a est 0, c'est une fonction linéaire ou constante\n",
    "        f_g = b * lambdas_train[i] + c\n",
    "        f_d = b * lambdas_train[i+1] + c\n",
    "        if f_g < f_d:\n",
    "            min_value = f_g\n",
    "            min_point = lambdas_train[i]\n",
    "        else:\n",
    "            min_value = f_d\n",
    "            min_point = lambdas_train[i+1]\n",
    "    min_values = np.append(min_values, min_value)\n",
    "    min_points = np.append(min_points, min_point)\n",
    "### calcul du min et argmin(lam) sur l'union des portions\n",
    "global_min_index = np.argmin(min_values)\n",
    "\n",
    "global_min_value = min_values[global_min_index]\n",
    "global_min_point = min_points[global_min_index]\n",
    "print(f\"minimum = {global_min_value}, atteint en  lambda = {global_min_point}\")\n",
    "plt.axvline(x=global_min_point, color='k', linestyle=':')\n",
    "plt.title('SCR(lambda)')\n",
    "plt.axhline(y=global_min_value, color='k', linestyle=':')"
   ]
  },
  {
   "cell_type": "markdown",
   "id": "f4a1380b",
   "metadata": {},
   "source": [
    "Après avoir déterminé $\\lambda_{opt}$, on détermine $\\hat{\\beta}(\\lambda_{opt})$ via le chemin des solutions calculé sur toutes les données"
   ]
  },
  {
   "cell_type": "code",
   "execution_count": 43,
   "id": "b98c7366",
   "metadata": {},
   "outputs": [
    {
     "name": "stdout",
     "output_type": "stream",
     "text": [
      "0.01999950408935547 s\n"
     ]
    }
   ],
   "source": [
    "values_train, a_train, b_train = homo_lasso(X_train,y_train)\n",
    "lambdas_train = np.array([l[0] for l in values_train])\n",
    "betas_train = np.vstack([b[1] for b in values_train])"
   ]
  },
  {
   "cell_type": "code",
   "execution_count": 44,
   "id": "0f9241a9",
   "metadata": {},
   "outputs": [
    {
     "name": "stdout",
     "output_type": "stream",
     "text": [
      "lambda optimal =  13.530961838851303\n",
      "variables sélectionnées ----> 9 sur 11\n"
     ]
    }
   ],
   "source": [
    "for i in range(len(lambdas_train)):\n",
    "    if lambdas_train[i] <= global_min_point:\n",
    "        coef_a = a_train[i]\n",
    "        coef_b = b_train[i]\n",
    "        break\n",
    "beta_opt_SCR = coef_a*global_min_point + coef_b\n",
    "print(\"lambda optimal = \", global_min_point)\n",
    "print(\"variables sélectionnées ---->\", 11-np.sum(beta_opt_SCR == 0), \"sur 11\")"
   ]
  },
  {
   "cell_type": "markdown",
   "id": "ce83b9d4",
   "metadata": {},
   "source": [
    "Autrement dit, $\\|\\hat{\\beta}(\\lambda_{opt,SCR})\\|_0=9$"
   ]
  },
  {
   "cell_type": "markdown",
   "id": "877bb568",
   "metadata": {},
   "source": [
    "# II. Validation croisée (K-folds)\n",
    "Une autre approche pour selectionner $\\lambda_{opt}$, est la **validation croisée**.\n",
    "On opte pour la validation croisée **K-folds**\\\n",
    "**Principe de la validation croisée:**(K-folds)  Pour $X\\in \\mathbb{R}^{n \\times p}$ et $Y\\in \\mathbb{R}^{n}$\n",
    "\n",
    "- On divise l'ensemble $\\left\\{1, \\dots,n \\right\\}$ en $K$ sous-ensembles $F_1,\\dots,F_K$ de tailles à peu près égales.\n",
    "- Pour $k=1,\\dots,K$\n",
    "    - On calcul $\\lambda >0 \\mapsto \\beta(\\lambda)$ sur $\\left[X_i \\right]_{i\\notin F_k}$ où $X_i$ est la i-ème ligne de $X$, et $\\left[Y_i \\right]_{i\\notin F_k}$ où $Y_i$ est la i-ème composante de $Y$\n",
    "    - On calcul $\\epsilon_k(\\lambda) = \\sum_{i\\in F_k} (Y_i - X_i \\hat{\\beta}(\\lambda))^2$\n",
    "- Enfin, on minimise $CV(\\lambda) = \\frac{1}{n} \\sum_{k=1}^{K} \\epsilon_k(\\lambda) = \\frac{1}{n} \\sum_{k=1}^{K} \\sum_{i\\in F_k} (Y_i - X_i \\hat{\\beta}(\\lambda))^2$ pour obtenir $\\lambda_{opt}$ puis $\\beta(\\lambda_{opt})$"
   ]
  },
  {
   "cell_type": "code",
   "execution_count": 45,
   "id": "92639e67",
   "metadata": {},
   "outputs": [
    {
     "name": "stdout",
     "output_type": "stream",
     "text": [
      "0.014998912811279297 s\n",
      "0.012000083923339844 s\n",
      "0.01098942756652832 s\n",
      "0.01199793815612793 s\n",
      "0.01598501205444336 s\n"
     ]
    }
   ],
   "source": [
    "kf = KFold(n_splits=5, shuffle=False)#, random_state=42)\n",
    "norm_max = 45\n",
    "lam_values = np.linspace(norm_max, 0.01, 200)\n",
    "error = np.zeros(len(lam_values)) \n",
    "k=0\n",
    "for train_index, test_index in kf.split(X):\n",
    "    k+=1\n",
    "    X_train = X[train_index] \n",
    "    X_test =  X[test_index]\n",
    "    y_train = y[train_index]\n",
    "    y_test = y[test_index]\n",
    "    \n",
    "    values_train1, a_train1, b_train1 = homo_lasso(X_train,y_train)\n",
    "    lambdas_train1 = np.array([l[0] for l in values_train1])\n",
    "    betas_train1 = np.vstack([b[1] for b in values_train1])\n",
    "    \n",
    "    ### on recupere les valeurs de beta pour la liste lam_values\n",
    "    list_beta = np.zeros((len(lam_values),11)) \n",
    "    for index,k in enumerate(lam_values):\n",
    "        if k >= np.linalg.norm(X_train.T @ y_train, np.inf):\n",
    "            list_beta[index, :] = np.zeros(11)\n",
    "        else:\n",
    "            for i in range(len(lambdas_train1)-1):\n",
    "                if lambdas_train1[i] <= k:\n",
    "                    coef_a1 = a_train1[i]\n",
    "                    coef_b1 = b_train1[i]\n",
    "                    break\n",
    "            list_beta[index, :] = coef_a1 * k + coef_b1\n",
    "    subsum = np.zeros(len(lam_values))\n",
    "    for i,b in enumerate(list_beta):\n",
    "        for j in test_index:\n",
    "            subsum[i] += (y[j] - np.dot(X[j,:], b))**2\n",
    "    error += subsum"
   ]
  },
  {
   "cell_type": "code",
   "execution_count": 46,
   "id": "c191ecac",
   "metadata": {},
   "outputs": [
    {
     "name": "stdout",
     "output_type": "stream",
     "text": [
      "lambda optimal ----> 11.087939698492463\n"
     ]
    },
    {
     "data": {
      "image/png": "[encoded data removed]",
      "text/plain": [
       "<Figure size 640x480 with 1 Axes>"
      ]
     },
     "metadata": {},
     "output_type": "display_data"
    }
   ],
   "source": [
    "argmin = np.argmin(error)\n",
    "mini = np.min(error)\n",
    "plt.plot(lam_values, error, color='k')\n",
    "plt.axvline(x=global_min_point, color='k', linestyle=':', label='via carrés résiduels')\n",
    "plt.axvline(x=lam_values[argmin], color='r', linestyle='--', label='via validation croisée')\n",
    "plt.title('CV(lambda)')\n",
    "plt.legend()\n",
    "print(\"lambda optimal ---->\",lam_values[argmin])"
   ]
  },
  {
   "cell_type": "markdown",
   "id": "b6b459a9",
   "metadata": {},
   "source": [
    "On a donc $\\lambda_{opt}$. On calcule $\\hat{\\beta}(\\lambda_{opt})$ via le chemin des solutions sur toutes les données."
   ]
  },
  {
   "cell_type": "code",
   "execution_count": 47,
   "id": "4fc9c4bc",
   "metadata": {},
   "outputs": [
    {
     "name": "stdout",
     "output_type": "stream",
     "text": [
      "0.023001432418823242 s\n"
     ]
    }
   ],
   "source": [
    "values, a, b = homo_lasso(X,y)\n",
    "lambdas = np.array([l[0] for l in values])\n",
    "betas = np.vstack([b[1] for b in values])"
   ]
  },
  {
   "cell_type": "code",
   "execution_count": 48,
   "id": "6d3fc1bf",
   "metadata": {},
   "outputs": [
    {
     "name": "stdout",
     "output_type": "stream",
     "text": [
      "lambda = 11.087939698492463\n",
      "variables sélectionnées CV ----> 10 sur 11\n"
     ]
    }
   ],
   "source": [
    "for i in range(len(lambdas)):\n",
    "    if lambdas[i] <= lam_values[argmin]:\n",
    "        coef_a_CV = a[i]\n",
    "        coef_b_CV = b[i]\n",
    "        break\n",
    "beta_opt_CV = coef_a_CV*lam_values[argmin] + coef_b_CV\n",
    "print(\"lambda =\", lam_values[argmin])\n",
    "print(\"variables sélectionnées CV ---->\", 11-np.sum(beta_opt_CV == 0), \"sur 11\")"
   ]
  },
  {
   "cell_type": "markdown",
   "id": "ac1c5ccf",
   "metadata": {},
   "source": [
    "Autrement dit, $\\|\\hat{\\beta}(\\lambda_{opt, CV\n",
    "})\\|_0=10$"
   ]
  },
  {
   "cell_type": "code",
   "execution_count": 59,
   "id": "4934d7a3",
   "metadata": {},
   "outputs": [
    {
     "name": "stdout",
     "output_type": "stream",
     "text": [
      "0.024997949600219727 s\n"
     ]
    }
   ],
   "source": [
    "file_path = 'winequality-red.csv'\n",
    "data = pd.read_csv(file_path, sep=';', header=None)\n",
    "y = data.iloc[:, -1].to_numpy()\n",
    "yb = data.iloc[:, -1].to_numpy()\n",
    "X = data.iloc[:, :-1].to_numpy()\n",
    "X_mean = X.mean(axis=0)\n",
    "X_std = X.std(axis=0)\n",
    "y_mean = np.mean(y)\n",
    "\n",
    "X = (X - X_mean) / X_std\n",
    "y = y - y_mean\n",
    "n = X.shape[0]\n",
    "p = X.shape[1]\n",
    "\n",
    "values, amat, bmat = homo_lasso(X,y)\n",
    "#show_path(values, False)\n",
    "lambdas = np.array([l[0] for l in values])\n",
    "betas = np.vstack([b[1] for b in values])"
   ]
  },
  {
   "cell_type": "markdown",
   "id": "36ef0ecb",
   "metadata": {},
   "source": [
    "# III. Formule SURE (Stein Unbiaised Risk Estimator)\n",
    "La formule SURE est un estimateur sans biais de l'erreur quadratique moyenne.\\\n",
    "$SURE(\\lambda)=\\|Y-X\\hat{\\beta}(\\lambda)\\|_2^2 -n\\sigma^2+2\\sigma^2\\|\\hat{\\beta}(\\lambda)\\|_0$ (Fonction quadratique par morceaux mais pas continue)\\\n",
    "Où $\\sigma^2$ est la variance des résidus.\\\n",
    "Dans la formule SURE, on remplace $\\sigma^2$ par un estimateur : \n",
    "$$\n",
    "\\hat{\\sigma^2}= \\frac{1}{1588} \\|\\left(I_n - X(X^\\top X)^{-1}X^\\top\\right)Y\\|_2^2\n",
    "$$"
   ]
  },
  {
   "cell_type": "code",
   "execution_count": 60,
   "id": "4897ad7c",
   "metadata": {},
   "outputs": [
    {
     "name": "stdout",
     "output_type": "stream",
     "text": [
      "minimum = 3.29040798201231, atteint en  lambda = 11.760166479819352\n"
     ]
    },
    {
     "data": {
      "text/plain": [
       "<matplotlib.lines.Line2D at 0x25cccd4add0>"
      ]
     },
     "execution_count": 60,
     "metadata": {},
     "output_type": "execute_result"
    },
    {
     "data": {
      "image/png": "[encoded data removed]",
      "text/plain": [
       "<Figure size 640x480 with 1 Axes>"
      ]
     },
     "metadata": {},
     "output_type": "display_data"
    }
   ],
   "source": [
    "yTy = y.T @ y\n",
    "sig_squared = (1/(n-p))*np.linalg.norm((np.identity(n) - X @ np.linalg.inv(X.T @ X) @ X.T) @ y)**2\n",
    "min_values = np.empty((0,))\n",
    "min_points = np.empty((0,))\n",
    "for i in range(len(lambdas)-1):\n",
    "#for i in range(len(lambdas_train)-7, len(lambdas_train)-1):\n",
    "    plage = np.linspace(lambdas[i], lambdas[i+1], 100)\n",
    "    v1 = X @ amat[i,:]\n",
    "    v2 = X @ bmat[i,:]\n",
    "    norm_v1 = np.linalg.norm(v1)**2\n",
    "    norm_v2 = np.linalg.norm(v2)**2\n",
    "    yTv2 = y.T @ v2\n",
    "    yTv1 = y.T @ v1\n",
    "    v1Tv2 = v1.T @ v2\n",
    "    ### coeff de la fonction quadratique\n",
    "    a = norm_v1\n",
    "    b = 2*v1Tv2 - 2*yTv1\n",
    "    c = yTy + norm_v2 - 2*yTv2 - n*sig_squared + 2*sig_squared*np.count_nonzero(betas[i])\n",
    "    \n",
    "    plt.plot(plage, a * plage**2 + b * plage + c, color='k')\n",
    "    #plt.axvline(x=lambdas[i], linestyle=':')\n",
    "    ### calcul du min sur chaque portion\n",
    "    if a != 0:\n",
    "        x_min = -b / (2 * a)\n",
    "        if lambdas[i] >= x_min >= lambdas[i+1]:\n",
    "            min_value = a * x_min**2 + b * x_min + c\n",
    "            min_point = x_min\n",
    "        else:\n",
    "            f_g = a * lambdas[i]**2 + b * lambdas[i] + c\n",
    "            f_d = a * lambdas[i+1]**2 + b * lambdas[i+1] + c\n",
    "            if f_g < f_d:\n",
    "                min_value = f_g\n",
    "                min_point = lambdas[i]\n",
    "            else:\n",
    "                min_value = f_d\n",
    "                min_point = lambdas[i+1]\n",
    "    else:\n",
    "        # Si a est 0, c'est une fonction linéaire ou constante\n",
    "        f_g = b * lambdas[i] + c\n",
    "        f_d = b * lambdas[i+1] + c\n",
    "        if f_g < f_d:\n",
    "            min_value = f_g\n",
    "            min_point = lambdas[i]\n",
    "        else:\n",
    "            min_value = f_d\n",
    "            min_point = lambdas[i+1]\n",
    "    min_values = np.append(min_values, min_value)\n",
    "    min_points = np.append(min_points, min_point)\n",
    "### calcul du min et argmin(lam) sur l'union des portions\n",
    "global_min_index = np.argmin(min_values)\n",
    "\n",
    "global_min_value = min_values[global_min_index]\n",
    "global_min_point = min_points[global_min_index]\n",
    "print(f\"minimum = {global_min_value}, atteint en  lambda = {global_min_point}\")\n",
    "plt.axvline(x=global_min_point, color='k', linestyle=':')\n",
    "plt.axhline(y=global_min_value, color='k', linestyle=':')"
   ]
  },
  {
   "cell_type": "markdown",
   "id": "dc28d346",
   "metadata": {},
   "source": [
    "Calcul de la valeur optimale pour le vecteur des paramètres $\\hat{\\beta}$"
   ]
  },
  {
   "cell_type": "code",
   "execution_count": 61,
   "id": "1be23be0",
   "metadata": {},
   "outputs": [
    {
     "name": "stdout",
     "output_type": "stream",
     "text": [
      "lambda = 11.760166479819352\n",
      "variables sélectionnées SURE ----> 9 sur 11\n"
     ]
    }
   ],
   "source": [
    "for i in range(len(lambdas)):\n",
    "    if lambdas[i] <= global_min_point:\n",
    "        coef_a_SURE = amat[i]\n",
    "        coef_b_SURE = bmat[i]\n",
    "        break\n",
    "beta_opt_SURE = coef_a_SURE*global_min_point + coef_b_SURE\n",
    "print(\"lambda =\", global_min_point)\n",
    "print(\"variables sélectionnées SURE ---->\", 11-np.sum(beta_opt_SURE == 0), \"sur 11\")"
   ]
  },
  {
   "cell_type": "markdown",
   "id": "62dcebd0",
   "metadata": {},
   "source": [
    "Autrement dit, $\\|\\hat{\\beta}(\\lambda_{opt, SURE})\\|_0=9$"
   ]
  },
  {
   "cell_type": "markdown",
   "id": "eb009105",
   "metadata": {},
   "source": [
    "# IV. Conclusion"
   ]
  },
  {
   "cell_type": "markdown",
   "id": "8d4d2718",
   "metadata": {},
   "source": [
    "- **SCR**  : $\\lambda_{opt}=13.530961838851303$ ---> nombre de variables selectionnnées : 9\n",
    "- **SURE** : $\\lambda_{opt}=11.760166479819352$ ---> nombre de variables selectionnnées : 9\n",
    "- **CV**   : $\\lambda_{opt}=11.087939698492463$ ---> nombre de variables selectionnnées : 10"
   ]
  },
  {
   "cell_type": "code",
   "execution_count": 62,
   "id": "6aeb0c6d",
   "metadata": {},
   "outputs": [
    {
     "name": "stdout",
     "output_type": "stream",
     "text": [
      "SCR---> [ 0  1  3  4  6  7  8  9 10]\n",
      "SURE---> [ 1  2  3  4  5  6  8  9 10]\n",
      "CV---> [ 0  1  2  3  4  5  6  8  9 10]\n",
      "Nombre de variables selectionnées par les trois méthodes ----> 7\n"
     ]
    }
   ],
   "source": [
    "indices_non_nuls_CV = np.nonzero(beta_opt_CV)[0]\n",
    "indices_non_nuls_SCR = np.nonzero(beta_opt_SCR)[0]\n",
    "indices_non_nuls_SURE = np.nonzero(beta_opt_SURE)[0]\n",
    "print(\"SCR--->\",indices_non_nuls_SCR)\n",
    "print(\"SURE--->\",indices_non_nuls_SURE)\n",
    "print(\"CV--->\",indices_non_nuls_CV)\n",
    "z = list(set(indices_non_nuls_CV) & set(indices_non_nuls_SCR) & set(indices_non_nuls_SURE))\n",
    "print(\"Nombre de variables selectionnées par les trois méthodes ---->\",len(z))"
   ]
  },
  {
   "cell_type": "markdown",
   "id": "87e21faf",
   "metadata": {},
   "source": [
    "**Calculons l'erreur pour chaque méthode de sélection de $\\lambda_{opt}$**"
   ]
  },
  {
   "cell_type": "markdown",
   "id": "a32898ca",
   "metadata": {},
   "source": [
    "1. $\\sum_{i=1}^{1599}\\left\\lvert\\left[Y-X\\hat{\\beta}(\\lambda_{opt})\\right]_i\\right\\rvert$"
   ]
  },
  {
   "cell_type": "code",
   "execution_count": 85,
   "id": "7445d99b",
   "metadata": {},
   "outputs": [
    {
     "name": "stdout",
     "output_type": "stream",
     "text": [
      "SURE ---> 804.2092311929796\n",
      "CV ---> 803.9649121384568\n",
      "SCR ---> 806.7252387167129\n"
     ]
    }
   ],
   "source": [
    "err_sure_abs = abs(y-X@beta_opt_SURE)\n",
    "print(\"SURE --->\",np.sum(err_sure_abs))\n",
    "err_cv_abs = abs(y-X@beta_opt_CV)\n",
    "print(\"CV --->\",np.sum(err_cv_abs))\n",
    "err_scr_abs = abs(y-X@beta_opt_SCR)\n",
    "print(\"SCR --->\",np.sum(err_scr_abs))"
   ]
  },
  {
   "cell_type": "markdown",
   "id": "b5d9dfdb",
   "metadata": {},
   "source": [
    "2. $\\|Y-X\\hat{\\beta}(\\lambda_{opt})\\|_2^2$"
   ]
  },
  {
   "cell_type": "code",
   "execution_count": 75,
   "id": "def60095",
   "metadata": {},
   "outputs": [
    {
     "name": "stdout",
     "output_type": "stream",
     "text": [
      "SURE ---> 668.4421460887161\n",
      "CV ---> 668.3017045257075\n",
      "SCR ---> 676.0604162160776\n"
     ]
    }
   ],
   "source": [
    "err_sure_sqr = np.linalg.norm(y-X@beta_opt_SURE)**2\n",
    "err_cv_sqr = np.linalg.norm(y-X@beta_opt_CV)**2\n",
    "err_scr_sqr = np.linalg.norm(y-X@beta_opt_SCR)**2\n",
    "print(\"SURE --->\", err_sure_sqr)\n",
    "print(\"CV --->\", err_cv_sqr)\n",
    "print(\"SCR --->\", err_scr_sqr)"
   ]
  },
  {
   "cell_type": "markdown",
   "id": "16782e5a",
   "metadata": {},
   "source": [
    "Pour ce dataset, la méthode de validation croisée semble être la meilleure. Bien que la méthode SURE ait une erreur presque équivalente."
   ]
  }
 ],
 "metadata": {
  "kernelspec": {
   "display_name": "Python 3 (ipykernel)",
   "language": "python",
   "name": "python3"
  },
  "language_info": {
   "codemirror_mode": {
    "name": "ipython",
    "version": 3
   },
   "file_extension": ".py",
   "mimetype": "text/x-python",
   "name": "python",
   "nbconvert_exporter": "python",
   "pygments_lexer": "ipython3",
   "version": "3.11.5"
  }
 },
 "nbformat": 4,
 "nbformat_minor": 5
}
